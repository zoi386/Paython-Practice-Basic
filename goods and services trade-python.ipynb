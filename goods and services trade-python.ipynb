{
 "cells": [
  {
   "cell_type": "markdown",
   "metadata": {},
   "source": [
    "# Goods and services trade by contry for 2014 year\n",
    "\n",
    "Data set that is explored in this project summarise goods and services export and import between New Zeland and 235 other countries from 2014 to 2019. Since this project is about learning and practicing Python I am going to explore data only for 2014 year.\n",
    "More data sets you can finde on this [link](https://www.stats.govt.nz/information-releases/goods-and-services-trade-by-country-year-ended-march-2018) \n"
   ]
  },
  {
   "cell_type": "code",
   "execution_count": 1,
   "metadata": {},
   "outputs": [
    {
     "name": "stdout",
     "output_type": "stream",
     "text": [
      "['Year', 'Time_ref', 'MAGNITUDE', 'UNITS', 'country_code', 'country_name', 'Goods_Exports', 'Goods_Imports', 'Services_Exports', 'Services_Imports', 'Total_exports', 'Total_imports', 'Two_way_trade']\n",
      "235\n"
     ]
    }
   ],
   "source": [
    "#importing data set as list of lists\n",
    "import csv\n",
    "open_file = open('goods-and-services-trade-by-country-year-ended-june-2019-map-csv.csv')\n",
    "list_file =list(csv.reader(open_file))\n",
    "list_file_header = list_file[0]\n",
    "goods = list_file[1:236] # 2014 year only and without header\n",
    "\n",
    "print(list_file_header)\n",
    "print(len(goods))\n",
    "\n"
   ]
  },
  {
   "cell_type": "code",
   "execution_count": 2,
   "metadata": {},
   "outputs": [
    {
     "name": "stdout",
     "output_type": "stream",
     "text": [
      "['Andorra', 'Anguilla', 'Bosnia and Herzegovina', 'Burundi', 'Cabo Verde', 'Christmas Island', 'Dominica', 'Eritrea', 'Greenland', 'South Georgia and the South Sandwich Islands', 'Guinea-Bissau', 'British Indian Ocean Territory', 'Liechtenstein', 'Lesotho', 'North Macedonia', 'Montserrat', 'Niger', 'New Zealand', 'St Pierre and Miquelon', 'Rwanda', 'St Helena', 'San Marino', 'Somalia', 'Suriname', 'South Sudan', 'Sao Tome and Principe', 'Eswatini', 'French Southern Territories', 'United States Minor Outlying Islands', 'Vatican City State']\n",
      "30\n"
     ]
    }
   ],
   "source": [
    "#Let's write function for extraction of countries that didn't trade with NZ\n",
    "\n",
    "def min_value(index):\n",
    "    contry_name = []\n",
    "    for row in goods:\n",
    "        goods_exc = row[index]\n",
    "        if goods_exc == '0':\n",
    "            contry_name.append(row[5])\n",
    "    return contry_name\n",
    "\n",
    "goods_export = min_value(6)\n",
    "print(goods_export)\n",
    "print(len(goods_export))"
   ]
  },
  {
   "cell_type": "markdown",
   "metadata": {},
   "source": [
    "Here we enlisted countries to which NZ didn' export any goods. There are 30 countries enlisted by name.\n"
   ]
  },
  {
   "cell_type": "code",
   "execution_count": 3,
   "metadata": {},
   "outputs": [
    {
     "name": "stdout",
     "output_type": "stream",
     "text": [
      "['Andorra', 'Antigua and Barbuda', 'Angola', 'Antarctica', 'Aruba', 'Burkina Faso', 'Burundi', 'Benin', 'Bahamas', 'Bhutan', 'Botswana', 'Belize', 'Cocos (Keeling) Islands', 'Central African Republic', 'Congo', \"Cote D'Ivoire\", 'Cabo Verde', 'Curacao', 'Djibouti', 'Dominica', 'Algeria', 'Eritrea', 'Faeroe Islands', 'French Guiana', 'Gibraltar', 'Greenland', 'Gambia', 'Equatorial Guinea', 'South Georgia and the South Sandwich Islands', 'Guam', 'Guinea-Bissau', 'British Indian Ocean Territory', 'Kyrgyzstan', 'Kiribati', 'Comoros', 'St Kitts and Nevis', 'St Lucia', 'Liberia', 'Lesotho', 'Libya', 'Mali', 'Northern Mariana Islands', 'Martinique', 'Mauritania', 'Montserrat', 'Maldives', 'Norfolk Island', 'St Pierre and Miquelon', 'Pitcairn', 'Palau', 'Seychelles', 'St Helena', 'Somalia', 'South Sudan', 'Sao Tome and Principe', 'Turks and Caicos Islands', 'Chad', 'French Southern Territories', 'Tajikistan', 'Turkmenistan', 'Tuvalu', 'United States Minor Outlying Islands', 'Uzbekistan', 'Vatican City State', 'St Vincent and the Grenadines', 'Wallis and Futuna', 'Yemen', 'Mayotte']\n",
      "68\n"
     ]
    }
   ],
   "source": [
    "#Goods import\n",
    "goods_import = min_value(7)\n",
    "print(goods_import)\n",
    "print(len(goods_import))"
   ]
  },
  {
   "cell_type": "markdown",
   "metadata": {},
   "source": [
    "Countries from which NZ didn't import any goods. There is 68 of them enlisted by name."
   ]
  },
  {
   "cell_type": "code",
   "execution_count": 4,
   "metadata": {},
   "outputs": [
    {
     "name": "stdout",
     "output_type": "stream",
     "text": [
      "['Andorra', 'Burundi', 'Cabo Verde', 'Dominica', 'Eritrea', 'Greenland', 'South Georgia and the South Sandwich Islands', 'Guinea-Bissau', 'British Indian Ocean Territory', 'Lesotho', 'Montserrat', 'St Pierre and Miquelon', 'St Helena', 'Somalia', 'South Sudan', 'Sao Tome and Principe', 'French Southern Territories', 'United States Minor Outlying Islands', 'Vatican City State']\n",
      "19\n"
     ]
    }
   ],
   "source": [
    "#contries that didn't have export nor import goods \n",
    "nonexp_imp = []\n",
    "for contry in goods_export and goods_import:\n",
    "    \n",
    "    if contry in goods_export and contry in goods_import:\n",
    "        nonexp_imp.append(contry)\n",
    "print(nonexp_imp)\n",
    "print(len(nonexp_imp)) "
   ]
  },
  {
   "cell_type": "markdown",
   "metadata": {},
   "source": [
    "Here we see that from 19 countries NZ didn't import or export in any of goods."
   ]
  },
  {
   "cell_type": "markdown",
   "metadata": {},
   "source": [
    "## Services\n",
    "\n",
    "Here I am going to determine the countries by name to whom NZ didn't export services or import from them, as well as names of countries with whom NZ didn't have export nor import from."
   ]
  },
  {
   "cell_type": "code",
   "execution_count": 5,
   "metadata": {},
   "outputs": [
    {
     "name": "stdout",
     "output_type": "stream",
     "text": [
      "['Anguilla', 'Albania', 'Aruba', 'Burundi', 'Benin', 'Cocos (Keeling) Islands', \"Cote D'Ivoire\", 'Cabo Verde', 'Christmas Island', 'Djibouti', 'Eritrea', 'French Guiana', 'Greenland', 'Gambia', 'Guinea', 'South Georgia and the South Sandwich Islands', 'Guinea-Bissau', 'Guyana', 'Honduras', 'British Indian Ocean Territory', 'Comoros', 'St Lucia', 'Montenegro', 'Madagascar', 'Martinique', 'Mauritania', 'Montserrat', 'Niger', 'New Zealand', 'Seychelles', 'St Helena', 'San Marino', 'Somalia', 'South Sudan', 'Sao Tome and Principe', 'El Salvador', 'Chad', 'French Southern Territories', 'Togo', 'Turkmenistan', 'Tunisia', 'Vatican City State', 'St Vincent and the Grenadines', 'Mayotte']\n",
      "44\n"
     ]
    }
   ],
   "source": [
    "services_export = min_value(8)\n",
    "print(services_export)\n",
    "print(len(services_export))\n"
   ]
  },
  {
   "cell_type": "code",
   "execution_count": 6,
   "metadata": {},
   "outputs": [
    {
     "name": "stdout",
     "output_type": "stream",
     "text": [
      "['Andorra', 'Anguilla', 'Albania', 'Armenia', 'Aruba', 'Azerbaijan', 'Burkina Faso', 'Benin', 'Cocos (Keeling) Islands', 'Central African Republic', \"Cote D'Ivoire\", 'Cameroon', 'Cabo Verde', 'Curacao', 'Christmas Island', 'Djibouti', 'Dominica', 'Eritrea', 'Faeroe Islands', 'French Guiana', 'Greenland', 'Guinea', 'Equatorial Guinea', 'South Georgia and the South Sandwich Islands', 'Guinea-Bissau', 'Haiti', 'British Indian Ocean Territory', 'Kyrgyzstan', 'Comoros', 'St Kitts and Nevis', 'St Lucia', 'Lesotho', 'Libya', 'Montenegro', 'Northern Mariana Islands', 'Martinique', 'Mauritania', 'Montserrat', 'Niger', 'New Zealand', 'St Pierre and Miquelon', 'St Helena', 'Sierra Leone', 'San Marino', 'Somalia', 'Suriname', 'Sao Tome and Principe', 'Chad', 'French Southern Territories', 'Togo', 'Tajikistan', 'Turkmenistan', 'Vatican City State', 'St Vincent and the Grenadines', 'Virgin Islands, United States', 'Yemen', 'Mayotte']\n",
      "57\n"
     ]
    }
   ],
   "source": [
    "services_import = min_value(9)\n",
    "print(services_import)\n",
    "print(len(services_import))\n"
   ]
  },
  {
   "cell_type": "code",
   "execution_count": 7,
   "metadata": {},
   "outputs": [
    {
     "name": "stdout",
     "output_type": "stream",
     "text": [
      "['Anguilla', 'Albania', 'Aruba', 'Benin', 'Cocos (Keeling) Islands', \"Cote D'Ivoire\", 'Cabo Verde', 'Christmas Island', 'Djibouti', 'Eritrea', 'French Guiana', 'Greenland', 'Guinea', 'South Georgia and the South Sandwich Islands', 'Guinea-Bissau', 'British Indian Ocean Territory', 'Comoros', 'St Lucia', 'Montenegro', 'Martinique', 'Mauritania', 'Montserrat', 'Niger', 'New Zealand', 'St Helena', 'San Marino', 'Somalia', 'Sao Tome and Principe', 'Chad', 'French Southern Territories', 'Togo', 'Turkmenistan', 'Vatican City State', 'St Vincent and the Grenadines', 'Mayotte']\n",
      "35\n"
     ]
    }
   ],
   "source": [
    "#contries that didn't have export nor import services during 2014. \n",
    "nonexp_imps = []\n",
    "for contry in services_export and services_import:\n",
    "    \n",
    "    if contry in services_export and contry in services_import:\n",
    "        nonexp_imps.append(contry)\n",
    "print(nonexp_imps)\n",
    "print(len(nonexp_imps)) "
   ]
  },
  {
   "cell_type": "markdown",
   "metadata": {},
   "source": [
    "## Analysing data for contries that had trade with NZ\n",
    "After we determined contries that didn't have export or import with NZ or both, now we will give attention towards those contries that have.\n",
    "First I am going to write function for easy and fast extracting data and changing data type for columns that I am interested in.\n",
    "Then function for determining these contries."
   ]
  },
  {
   "cell_type": "code",
   "execution_count": 8,
   "metadata": {},
   "outputs": [
    {
     "name": "stdout",
     "output_type": "stream",
     "text": [
      "0.0\n",
      "11572.3\n"
     ]
    }
   ],
   "source": [
    "#extracting specific row and changing the type of data from string to float\n",
    "\n",
    "def spec_row(index):\n",
    "    float_value = []\n",
    "    for row in goods:\n",
    "        value = float(row[index])\n",
    "        float_value.append(value)\n",
    "    return float_value\n",
    "\n",
    "goods_exp = spec_row(6)\n",
    "\n",
    "print(min(goods_exp))\n",
    "print(max(goods_exp))"
   ]
  },
  {
   "cell_type": "markdown",
   "metadata": {},
   "source": [
    "Here we determined the minimum and max value for Goods export row, based on this we are going to se how many contries\n",
    "falls in certain range when it comes to export value. We are going to do this by creating dictionary with value ranges from zero to maximum value, as key and then incries the value of specific key for every contry that falls in this range. Than we will determine which contries are in these specific ranges."
   ]
  },
  {
   "cell_type": "code",
   "execution_count": 9,
   "metadata": {},
   "outputs": [
    {
     "name": "stdout",
     "output_type": "stream",
     "text": [
      "198\n",
      "5\n",
      "1\n",
      "1\n"
     ]
    }
   ],
   "source": [
    "value_country = {'0 - 1000': 0, '1000 - 5000': 0, '5000 - 10000': 0, '10000+': 0}\n",
    "\n",
    "for row in goods:\n",
    "    goods_export = float(row[6])\n",
    "    country = row[5]\n",
    "    if 0 < goods_export < 1000:\n",
    "        value_country['0 - 1000'] += 1\n",
    "    elif 1000 < goods_export < 5000:\n",
    "        value_country['1000 - 5000'] += 1\n",
    "    elif 5000 < goods_export < 10000:\n",
    "        value_country['5000 - 10000'] += 1\n",
    "    elif goods_export > 10000:\n",
    "        value_country['10000+'] += 1\n",
    "        \n",
    "print(value_country['0 - 1000'])\n",
    "print(value_country['1000 - 5000'])\n",
    "print(value_country['5000 - 10000'])\n",
    "print(value_country['10000+'])\n"
   ]
  },
  {
   "cell_type": "code",
   "execution_count": 10,
   "metadata": {},
   "outputs": [
    {
     "name": "stdout",
     "output_type": "stream",
     "text": [
      "['United Arab Emirates', 'Afghanistan', 'Antigua and Barbuda', 'Albania', 'Armenia', 'Angola', 'Antarctica', 'Argentina', 'Samoa, American', 'Austria', 'Aruba', 'Azerbaijan', 'Barbados', 'Bangladesh', 'Belgium', 'Burkina Faso', 'Bulgaria', 'Bahrain', 'Benin', 'Bermuda', 'Brunei Darussalam', 'Bolivia', 'Brazil', 'Bahamas', 'Bhutan', 'Botswana', 'Belarus', 'Belize', 'Canada', 'Cocos (Keeling) Islands', 'Congo, the Democratic Republic of the', 'Central African Republic', 'Congo', 'Switzerland', \"Cote D'Ivoire\", 'Cook Islands', 'Chile', 'Cameroon', 'Colombia', 'Costa Rica', 'Cuba', 'Curacao', 'Cyprus', 'Czechia', 'Germany', 'Djibouti', 'Denmark', 'Dominican Republic', 'Algeria', 'Ecuador', 'Estonia', 'Egypt', 'Spain', 'Ethiopia', 'Finland', 'Fiji', 'Falkland Islands', 'Micronesia, Federated States of', 'Faeroe Islands', 'France', 'Gabon', 'Grenada', 'Georgia', 'French Guiana', 'Ghana', 'Gibraltar', 'Gambia', 'Guinea', 'Guadeloupe', 'Equatorial Guinea', 'Greece', 'Guatemala', 'Guam', 'Guyana', 'Hong Kong (Special Administrative Region)', 'Honduras', 'Croatia', 'Haiti', 'Hungary', 'Indonesia', 'Ireland', 'Israel', 'India', 'Iraq', 'Iran', 'Iceland', 'Italy', 'Jamaica', 'Jordan', 'Kenya', 'Kyrgyzstan', 'Cambodia', 'Kiribati', 'Comoros', 'St Kitts and Nevis', 'Kuwait', 'Cayman Islands', 'Kazakhstan', 'Laos', 'Lebanon', 'St Lucia', 'Sri Lanka', 'Liberia', 'Lithuania', 'Luxembourg', 'Latvia', 'Libya', 'Morocco', 'Monaco', 'Moldova', 'Montenegro', 'Madagascar', 'Marshall Islands', 'Mali', 'Myanmar', 'Mongolia', 'Macau (Special Administrative Region)', 'Northern Mariana Islands', 'Martinique', 'Mauritania', 'Malta', 'Mauritius', 'Maldives', 'Malawi', 'Mexico', 'Malaysia', 'Mozambique', 'Namibia', 'New Caledonia', 'Norfolk Island', 'Nigeria', 'Nicaragua', 'Netherlands', 'Norway', 'Nepal', 'Nauru', 'Oman', 'Panama', 'Peru', 'French Polynesia', 'Papua New Guinea', 'Philippines', 'Pakistan', 'Poland', 'Pitcairn', 'Puerto Rico', 'Portugal', 'Palau', 'Paraguay', 'Qatar', 'Reunion', 'Romania', 'Serbia', 'Russia', 'Saudi Arabia', 'Solomon Islands', 'Seychelles', 'Sudan', 'Sweden', 'Slovenia', 'Slovakia', 'Sierra Leone', 'Senegal', 'El Salvador', 'St Maarten (Dutch part)', 'Syria', 'Turks and Caicos Islands', 'Chad', 'Togo', 'Thailand', 'Tajikistan', 'Tokelau', 'Timor-Leste', 'Turkmenistan', 'Tunisia', 'Tonga', 'Turkey', 'Trinidad and Tobago', 'Tuvalu', 'Taiwan', 'Tanzania', 'Ukraine', 'Uganda', 'Uruguay', 'Uzbekistan', 'St Vincent and the Grenadines', 'Venezuela', 'Virgin Islands, British', 'Virgin Islands, United States', 'Viet Nam', 'Vanuatu', 'Wallis and Futuna', 'Samoa', 'Yemen', 'Mayotte', 'South Africa', 'Zambia', 'Zimbabwe']\n"
     ]
    }
   ],
   "source": [
    "country_1000 = []\n",
    "country_5000 = []\n",
    "country_10000 = []\n",
    "country_12000 = []\n",
    "\n",
    "for row in goods:\n",
    "    country = row[5]\n",
    "    trade_value = float(row[6])\n",
    "    if 0 < trade_value < 1000:\n",
    "        country_1000.append(country)\n",
    "    elif 1000 < trade_value < 5000:\n",
    "        country_5000.append(country)\n",
    "    elif 5000 < trade_value < 10000:\n",
    "        country_10000.append(country)\n",
    "    elif trade_value > 10000:\n",
    "        country_12000.append(country)\n",
    "print(country_1000)"
   ]
  },
  {
   "cell_type": "code",
   "execution_count": 11,
   "metadata": {},
   "outputs": [
    {
     "name": "stdout",
     "output_type": "stream",
     "text": [
      "Goods export from NZ to United Arab Emirates was: 844.7\n",
      "Goods export from NZ to Afghanistan was: 0.6\n",
      "Goods export from NZ to Antigua and Barbuda was: 0.8\n",
      "Goods export from NZ to Albania was: 0.3\n",
      "Goods export from NZ to Armenia was: 21\n",
      "Goods export from NZ to Angola was: 46.8\n",
      "Goods export from NZ to Antarctica was: 0.4\n",
      "Goods export from NZ to Argentina was: 21.9\n",
      "Goods export from NZ to Samoa, American was: 22.9\n",
      "Goods export from NZ to Austria was: 20.4\n"
     ]
    }
   ],
   "source": [
    "#function for enlisting countries with exporting goods values\n",
    "\n",
    "def exchange(country_range):\n",
    "    for row in goods:\n",
    "        country = row[5]\n",
    "        goods_export = row[6]\n",
    "        if country in country_range:\n",
    "            print('Goods export from NZ to {} was: {}'.format(country, goods_export))\n",
    "        \n",
    "exchange(country_1000[:10])#first 10.\n"
   ]
  },
  {
   "cell_type": "code",
   "execution_count": 12,
   "metadata": {},
   "outputs": [
    {
     "name": "stdout",
     "output_type": "stream",
     "text": [
      "Goods export from NZ to United Kingdom was: 1538.4\n",
      "Goods export from NZ to Japan was: 2900.5\n",
      "Goods export from NZ to Korea, Republic of was: 1653.7\n",
      "Goods export from NZ to Singapore was: 1092.5\n",
      "Goods export from NZ to United States of America was: 4225.3\n"
     ]
    }
   ],
   "source": [
    "exchange(country_5000)"
   ]
  },
  {
   "cell_type": "code",
   "execution_count": 13,
   "metadata": {},
   "outputs": [
    {
     "name": "stdout",
     "output_type": "stream",
     "text": [
      "Goods export from NZ to Australia was: 8931.2\n"
     ]
    }
   ],
   "source": [
    "exchange(country_10000)"
   ]
  },
  {
   "cell_type": "code",
   "execution_count": 14,
   "metadata": {},
   "outputs": [
    {
     "name": "stdout",
     "output_type": "stream",
     "text": [
      "Goods export from NZ to China, People's Republic of was: 11572.3\n"
     ]
    }
   ],
   "source": [
    "exchange(country_12000)"
   ]
  },
  {
   "cell_type": "markdown",
   "metadata": {},
   "source": [
    "## Goods import\n",
    "The same principle I am going to use for determining Goods import, except I am not going to make dictionary this time!"
   ]
  },
  {
   "cell_type": "code",
   "execution_count": 15,
   "metadata": {},
   "outputs": [
    {
     "name": "stdout",
     "output_type": "stream",
     "text": [
      "0.0\n",
      "8062.3\n"
     ]
    }
   ],
   "source": [
    "goods_imp = spec_row(7)\n",
    "print(min(goods_imp))\n",
    "print(max(goods_imp)) #minimum and maximum values for goods import"
   ]
  },
  {
   "cell_type": "code",
   "execution_count": 16,
   "metadata": {},
   "outputs": [],
   "source": [
    "country_1000 = []\n",
    "country_5000 = []\n",
    "country_10000 = []\n",
    "\n",
    "for row in goods:\n",
    "    country = row[5]\n",
    "    trade_value = float(row[7])\n",
    "    if 0 < trade_value < 1000:\n",
    "        country_1000.append(country)\n",
    "    elif 1000 < trade_value < 5000:\n",
    "        country_5000.append(country)\n",
    "    elif 5000 < trade_value < 10000:\n",
    "        country_10000.append(country)"
   ]
  },
  {
   "cell_type": "code",
   "execution_count": 17,
   "metadata": {},
   "outputs": [
    {
     "name": "stdout",
     "output_type": "stream",
     "text": [
      "Goods import from Afghanistan to NZ was: 0.3\n",
      "Goods import from Anguilla to NZ was: 0.2\n",
      "Goods import from Albania to NZ was: 0.2\n",
      "Goods import from Armenia to NZ was: 0.1\n",
      "Goods import from Argentina to NZ was: 186.1\n",
      "Goods import from Samoa, American to NZ was: 1.7\n",
      "Goods import from Austria to NZ was: 251.6\n",
      "Goods import from Azerbaijan to NZ was: 0.2\n",
      "Goods import from Bosnia and Herzegovina to NZ was: 0.5\n",
      "Goods import from Barbados to NZ was: 0.3\n",
      "155\n"
     ]
    }
   ],
   "source": [
    "def exchange_imp(country_range):\n",
    "    for row in goods:\n",
    "        country = row[5]\n",
    "        goods_import = row[7]\n",
    "        if country in country_range:\n",
    "            print('Goods import from {} to NZ was: {}'.format(country, goods_import))\n",
    "        \n",
    "exchange_imp(country_1000[:10]) # first 10\n",
    "print(len(country_1000)) #number of countries that have goods import from NZ between 0 and 1000 - 155!"
   ]
  },
  {
   "cell_type": "code",
   "execution_count": 18,
   "metadata": {},
   "outputs": [
    {
     "name": "stdout",
     "output_type": "stream",
     "text": [
      "Goods import from United Arab Emirates to NZ was: 1053.4\n",
      "Goods import from Germany to NZ was: 2274.9\n",
      "Goods import from France to NZ was: 1316.5\n",
      "Goods import from United Kingdom to NZ was: 1207.2\n",
      "Goods import from Japan to NZ was: 2960.1\n",
      "Goods import from Korea, Republic of to NZ was: 2016.4\n",
      "Goods import from Malaysia to NZ was: 2229.1\n",
      "Goods import from Singapore to NZ was: 2224.5\n",
      "Goods import from Thailand to NZ was: 1582\n",
      "Goods import from United States of America to NZ was: 4690.8\n",
      "10\n"
     ]
    }
   ],
   "source": [
    "exchange_imp(country_5000)\n",
    "print(len(country_5000))"
   ]
  },
  {
   "cell_type": "code",
   "execution_count": 19,
   "metadata": {},
   "outputs": [
    {
     "name": "stdout",
     "output_type": "stream",
     "text": [
      "Goods import from Australia to NZ was: 5858.3\n",
      "Goods import from China, People's Republic of to NZ was: 8062.3\n",
      "2\n"
     ]
    }
   ],
   "source": [
    "exchange_imp(country_10000)\n",
    "print(len(country_10000))"
   ]
  },
  {
   "cell_type": "markdown",
   "metadata": {},
   "source": [
    "When it comes to goods trade bigest partners for 2014 year were:\n",
    "1. China,\n",
    "2. Australia and\n",
    "3. USA"
   ]
  },
  {
   "cell_type": "markdown",
   "metadata": {},
   "source": [
    "## Services export"
   ]
  },
  {
   "cell_type": "code",
   "execution_count": 24,
   "metadata": {},
   "outputs": [
    {
     "name": "stdout",
     "output_type": "stream",
     "text": [
      "0.0\n",
      "4124.5\n"
     ]
    }
   ],
   "source": [
    "services_exp = spec_row(8)\n",
    "print(min(services_exp))\n",
    "print(max(services_exp)) #minimum and maximum values for services export\n"
   ]
  },
  {
   "cell_type": "code",
   "execution_count": 29,
   "metadata": {},
   "outputs": [],
   "source": [
    "country_1000 = []\n",
    "country_2000 = []\n",
    "country_3000 = []\n",
    "country_4000 = []\n",
    "\n",
    "for row in goods:\n",
    "    country = row[5]\n",
    "    trade_value = float(row[8])\n",
    "    if 0 < trade_value < 1000:\n",
    "        country_1000.append(country)\n",
    "    elif 1000 < trade_value < 2000:\n",
    "        country_2000.append(country)\n",
    "    elif 2000 < trade_value < 3000:\n",
    "        country_3000.append(country)\n",
    "    elif trade_value > 3000:\n",
    "        country_4000.append(country)"
   ]
  },
  {
   "cell_type": "code",
   "execution_count": 30,
   "metadata": {},
   "outputs": [
    {
     "name": "stdout",
     "output_type": "stream",
     "text": [
      "Services export from NZ to Andorra was: 0.3\n",
      "Services export from NZ to United Arab Emirates was: 91.5\n",
      "Services export from NZ to Afghanistan was: 1.1\n",
      "Services export from NZ to Antigua and Barbuda was: 0.2\n",
      "Services export from NZ to Armenia was: 0.1\n",
      "Services export from NZ to Angola was: 0.6\n",
      "Services export from NZ to Antarctica was: 0.8\n",
      "Services export from NZ to Argentina was: 27.5\n",
      "Services export from NZ to Samoa, American was: 6.2\n",
      "Services export from NZ to Austria was: 20.1\n",
      "187\n"
     ]
    }
   ],
   "source": [
    "def exchange_ser(country_range):\n",
    "    for row in goods:\n",
    "        country = row[5]\n",
    "        services_export = row[8]\n",
    "        if country in country_range:\n",
    "            print('Services export from NZ to {} was: {}'.format(country, services_export))\n",
    "        \n",
    "exchange_ser(country_1000[:10]) # first 10\n",
    "print(len(country_1000))"
   ]
  },
  {
   "cell_type": "code",
   "execution_count": 32,
   "metadata": {},
   "outputs": [
    {
     "name": "stdout",
     "output_type": "stream",
     "text": [
      "Services export from NZ to China, People's Republic of was: 1737.8\n",
      "Services export from NZ to United Kingdom was: 1074.2\n",
      "2\n"
     ]
    }
   ],
   "source": [
    "exchange_ser(country_2000)\n",
    "print(len(country_2000))"
   ]
  },
  {
   "cell_type": "code",
   "execution_count": 33,
   "metadata": {},
   "outputs": [
    {
     "name": "stdout",
     "output_type": "stream",
     "text": [
      "Services export from NZ to United States of America was: 2551.6\n",
      "1\n"
     ]
    }
   ],
   "source": [
    "exchange_ser(country_3000)\n",
    "print(len(country_3000))"
   ]
  },
  {
   "cell_type": "code",
   "execution_count": 34,
   "metadata": {},
   "outputs": [
    {
     "name": "stdout",
     "output_type": "stream",
     "text": [
      "Services export from NZ to Australia was: 4124.5\n",
      "1\n"
     ]
    }
   ],
   "source": [
    "exchange_ser(country_4000)\n",
    "print(len(country_4000))\n"
   ]
  },
  {
   "cell_type": "markdown",
   "metadata": {},
   "source": [
    "## Services import"
   ]
  },
  {
   "cell_type": "code",
   "execution_count": 35,
   "metadata": {},
   "outputs": [
    {
     "name": "stdout",
     "output_type": "stream",
     "text": [
      "0.0\n",
      "5104.1\n"
     ]
    }
   ],
   "source": [
    "services_imp = spec_row(9)\n",
    "print(min(services_imp))\n",
    "print(max(services_imp)) #minimum and maximum values for services import\n"
   ]
  },
  {
   "cell_type": "code",
   "execution_count": 37,
   "metadata": {},
   "outputs": [],
   "source": [
    "country_1000 = []\n",
    "country_2000 = []\n",
    "country_3000 = []\n",
    "country_4000 = []\n",
    "\n",
    "for row in goods:\n",
    "    country = row[5]\n",
    "    trade_value = float(row[9])\n",
    "    if 0 < trade_value < 1000:\n",
    "        country_1000.append(country)\n",
    "    elif 1000 < trade_value < 2000:\n",
    "        country_2000.append(country)\n",
    "    elif 2000 < trade_value < 3000:\n",
    "        country_3000.append(country)\n",
    "    elif trade_value > 3000:\n",
    "        country_4000.append(country)"
   ]
  },
  {
   "cell_type": "code",
   "execution_count": 43,
   "metadata": {},
   "outputs": [
    {
     "name": "stdout",
     "output_type": "stream",
     "text": [
      "Services import from United Arab Emirates to NZ was: 185.8\n",
      "Services import from Afghanistan to NZ was: 5.3\n",
      "Services import from Antigua and Barbuda to NZ was: 0.5\n",
      "Services import from Angola to NZ was: 0.5\n",
      "Services import from Antarctica to NZ was: 0.4\n",
      "Services import from Argentina to NZ was: 13.4\n",
      "Services import from Samoa, American to NZ was: 2.6\n",
      "Services import from Austria to NZ was: 31.8\n",
      "Services import from Bosnia and Herzegovina to NZ was: 0.4\n",
      "Services import from Barbados to NZ was: 3.6\n",
      "175\n"
     ]
    }
   ],
   "source": [
    "def exchange_ser(country_range):\n",
    "    for row in goods:\n",
    "        country = row[5]\n",
    "        services_import = row[9]\n",
    "        if country in country_range:\n",
    "            print('Services import from {} to NZ was: {}'.format(country, services_import))\n",
    "        \n",
    "exchange_ser(country_1000[:10]) # first 10\n",
    "print(len(country_1000))"
   ]
  },
  {
   "cell_type": "code",
   "execution_count": 44,
   "metadata": {},
   "outputs": [
    {
     "name": "stdout",
     "output_type": "stream",
     "text": [
      "Services import from Singapore to NZ was: 1088.5\n",
      "Services import from United States of America to NZ was: 1990.4\n",
      "2\n"
     ]
    }
   ],
   "source": [
    "exchange_ser(country_2000)\n",
    "print(len(country_2000))"
   ]
  },
  {
   "cell_type": "code",
   "execution_count": 46,
   "metadata": {},
   "outputs": [
    {
     "name": "stdout",
     "output_type": "stream",
     "text": [
      "0\n"
     ]
    }
   ],
   "source": [
    "exchange_ser(country_3000)\n",
    "print(len(country_3000))"
   ]
  },
  {
   "cell_type": "code",
   "execution_count": 47,
   "metadata": {},
   "outputs": [
    {
     "name": "stdout",
     "output_type": "stream",
     "text": [
      "Services import from Australia to NZ was: 5104.1\n",
      "1\n"
     ]
    }
   ],
   "source": [
    "exchange_ser(country_4000)\n",
    "print(len(country_4000))"
   ]
  },
  {
   "cell_type": "markdown",
   "metadata": {},
   "source": [
    "## Total exchange"
   ]
  },
  {
   "cell_type": "code",
   "execution_count": 51,
   "metadata": {},
   "outputs": [
    {
     "name": "stdout",
     "output_type": "stream",
     "text": [
      "NZ exported 8931.2 goods and imported 5858.3 goods from Australia during 2014 year!\n",
      "NZ exported 11572.3 goods and imported 8062.3 goods from China, People's Republic of during 2014 year!\n",
      "NZ exported 4225.3 goods and imported 4690.8 goods from United States of America during 2014 year!\n"
     ]
    }
   ],
   "source": [
    "for row in goods:\n",
    "    country = row[5]\n",
    "    goods_export = float(row[6])\n",
    "    goods_import = float(row[7])\n",
    "    if goods_export > 4000 and goods_import > 4000:\n",
    "        print ('NZ exported {} goods and imported {} goods from {} during 2014 year!'.format(goods_export, goods_import, country))"
   ]
  },
  {
   "cell_type": "code",
   "execution_count": 57,
   "metadata": {},
   "outputs": [
    {
     "name": "stdout",
     "output_type": "stream",
     "text": [
      "NZ exported 4124.5 services and imported 5104.1 services from Australia during 2014 year!\n",
      "NZ exported 1737.8 services and imported 481.9 services from China, People's Republic of during 2014 year!\n",
      "NZ exported 1074.2 services and imported 879.5 services from United Kingdom during 2014 year!\n",
      "NZ exported 2551.6 services and imported 1990.4 services from United States of America during 2014 year!\n"
     ]
    }
   ],
   "source": [
    "for row in goods:\n",
    "    country = row[5]\n",
    "    services_export = float(row[8])\n",
    "    services_import = float(row[9])\n",
    "    if services_export > 1000 and services_import > 0:\n",
    "        print ('NZ exported {} services and imported {} services from {} during 2014 year!'.format(services_export, services_import, country))"
   ]
  },
  {
   "cell_type": "code",
   "execution_count": 71,
   "metadata": {},
   "outputs": [],
   "source": [
    "total = []\n",
    "for row in goods:\n",
    "    total_trade = float(row[12])\n",
    "    total.append(total_trade)\n",
    "    \n",
    "first_10 = sorted(total, reverse = True)\n",
    "first_10 = first_10[:10]\n",
    "#print(first_10)\n",
    "\n",
    "for row in goods:\n",
    "    country = row[5]\n",
    "    total_trade = float(row[12])\n",
    "    first = first_10\n",
    "    if total_trade == first:\n",
    "        print('Total trade exchange with {} during 2014 was {}'.format(country, first))\n",
    "    "
   ]
  },
  {
   "cell_type": "code",
   "execution_count": null,
   "metadata": {},
   "outputs": [],
   "source": []
  }
 ],
 "metadata": {
  "kernelspec": {
   "display_name": "Python 3",
   "language": "python",
   "name": "python3"
  },
  "language_info": {
   "codemirror_mode": {
    "name": "ipython",
    "version": 3
   },
   "file_extension": ".py",
   "mimetype": "text/x-python",
   "name": "python",
   "nbconvert_exporter": "python",
   "pygments_lexer": "ipython3",
   "version": "3.7.3"
  }
 },
 "nbformat": 4,
 "nbformat_minor": 2
}
